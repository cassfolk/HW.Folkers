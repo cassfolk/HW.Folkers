{
 "cells": [
  {
   "cell_type": "markdown",
   "metadata": {},
   "source": [
    "# WeatherPy\n",
    "----\n",
    "\n",
    "#### Note\n",
    "* Instructions have been included for each segment. You do not have to follow them exactly, but they are included to help you think through the steps."
   ]
  },
  {
   "cell_type": "code",
   "execution_count": 1,
   "metadata": {
    "scrolled": true
   },
   "outputs": [],
   "source": [
    "import matplotlib.pyplot as plt\n",
    "import pandas as pd\n",
    "import numpy as np\n",
    "import requests\n",
    "import json\n",
    "import scipy.stats as st\n",
    "from scipy.stats import linregress\n",
    "import random \n",
    "import csv\n",
    "\n",
    "from api_keys import weather_api_key\n",
    "from citipy import citipy"
   ]
  },
  {
   "cell_type": "markdown",
   "metadata": {},
   "source": [
    "## Generate Cities List"
   ]
  },
  {
   "cell_type": "code",
   "execution_count": 2,
   "metadata": {},
   "outputs": [
    {
     "name": "stdout",
     "output_type": "stream",
     "text": [
      "City    700\n",
      "dtype: int64\n"
     ]
    },
    {
     "data": {
      "text/html": [
       "<div>\n",
       "<style scoped>\n",
       "    .dataframe tbody tr th:only-of-type {\n",
       "        vertical-align: middle;\n",
       "    }\n",
       "\n",
       "    .dataframe tbody tr th {\n",
       "        vertical-align: top;\n",
       "    }\n",
       "\n",
       "    .dataframe thead th {\n",
       "        text-align: right;\n",
       "    }\n",
       "</style>\n",
       "<table border=\"1\" class=\"dataframe\">\n",
       "  <thead>\n",
       "    <tr style=\"text-align: right;\">\n",
       "      <th></th>\n",
       "      <th>City</th>\n",
       "    </tr>\n",
       "  </thead>\n",
       "  <tbody>\n",
       "    <tr>\n",
       "      <th>0</th>\n",
       "      <td>puerto ayora</td>\n",
       "    </tr>\n",
       "    <tr>\n",
       "      <th>1</th>\n",
       "      <td>aksu</td>\n",
       "    </tr>\n",
       "    <tr>\n",
       "      <th>2</th>\n",
       "      <td>tiksi</td>\n",
       "    </tr>\n",
       "    <tr>\n",
       "      <th>3</th>\n",
       "      <td>shingu</td>\n",
       "    </tr>\n",
       "    <tr>\n",
       "      <th>4</th>\n",
       "      <td>atuona</td>\n",
       "    </tr>\n",
       "  </tbody>\n",
       "</table>\n",
       "</div>"
      ],
      "text/plain": [
       "           City\n",
       "0  puerto ayora\n",
       "1          aksu\n",
       "2         tiksi\n",
       "3        shingu\n",
       "4        atuona"
      ]
     },
     "execution_count": 2,
     "metadata": {},
     "output_type": "execute_result"
    }
   ],
   "source": [
    "# out_put_data_file = \"../output_data/cities.csv\"\n",
    "\n",
    "# need random numbers --- 600 bewtween -90 & 90 for lat\n",
    "lat_numbers = []\n",
    "\n",
    "for num in range(0, 700):\n",
    "    x = random.randint(-90,90)\n",
    "    lat_numbers.append(x)\n",
    "\n",
    "# need random numbers --- 600 between -180 & 180 for lng\n",
    "lng_numbers = []\n",
    "\n",
    "for num in range(0, 700):\n",
    "    y = random.randint(-180, 180)\n",
    "    lng_numbers.append(y)\n",
    "\n",
    "#shove numbers in dataframe in lat & lng columns\n",
    "cities_fake_lat_lng_df = pd.DataFrame({\"City\": \"\", \n",
    "                          \"Lat\": lat_numbers,\n",
    "                          \"Lng\": lng_numbers})\n",
    "\n",
    "# get below per each lat & lng number\n",
    "city_name = []\n",
    "\n",
    "\n",
    "for index, row in cities_fake_lat_lng_df.iterrows():\n",
    "    city = citipy.nearest_city(row[\"Lat\"], row[\"Lng\"])\n",
    "    city_name.append(city.city_name)\n",
    "    \n",
    "# save in city name & country code in DF\n",
    "\n",
    "city_df = pd.DataFrame({\"City\": city_name})\n",
    "\n",
    "print(city_df.count())\n",
    "city_df.head()"
   ]
  },
  {
   "cell_type": "markdown",
   "metadata": {},
   "source": [
    "### Perform API Calls\n",
    "* Perform a weather check on each city using a series of successive API calls.\n",
    "* Include a print log of each city as it'sbeing processed (with the city number and city name).\n"
   ]
  },
  {
   "cell_type": "code",
   "execution_count": 3,
   "metadata": {},
   "outputs": [],
   "source": [
    "# Ins_OpenWeatherRequest ---- for weather API (when we used it)\n",
    "### 02-API-try-except/03-Ins_OpenWeatherRequest/Unsolved/Ins_OpenWeatherRequest.ipynb\n",
    "# Ins_IterativeRequests ---- for multi requests\n",
    "### 01-Intro-to-APIs/09-Ins_IterativeRequests/Unsolved/Ins_IterativeRequests.ipynb\n",
    "# NearestRestr_SOLVED ---- for try, except errors\n",
    "### 03-Google-Census/04-Ins_NearestRestr/Unsolved/NearestRestr_SOLVED.ipynb\n",
    "\n",
    "##### ROAD MAP TO HOW TO DO THE BELOW: yays\n",
    "\n",
    "### THEY DID THEIR EXAMPLE REQUESTS IN GROUPS OF 50\n",
    "# Processing Record 1 of Set 1 | butaritari\n",
    "# class example = for record #, need to figure out for set #"
   ]
  },
  {
   "cell_type": "code",
   "execution_count": 4,
   "metadata": {
    "scrolled": false
   },
   "outputs": [
    {
     "name": "stdout",
     "output_type": "stream",
     "text": [
      "Beginning Data Retrieval\n",
      "-----------------------------\n",
      "Processing Record 0 Set 1 | puerto+ayora\n",
      "Processing Record 1 Set 1 | aksu\n",
      "Processing Record 2 Set 1 | tiksi\n",
      "Processing Record 3 Set 1 | shingu\n",
      "Processing Record 4 Set 1 | atuona\n",
      "Processing Record 5 Set 1 | fuerte+olimpo\n",
      "Processing Record 6 Set 1 | severo-kurilsk\n",
      "Processing Record 7 Set 1 | busselton\n",
      "Processing Record 8 Set 1 | lagoa\n",
      "Processing Record 9 Set 1 | yongan\n"
     ]
    }
   ],
   "source": [
    "#looked it up -- need + instead of spaces for api lookup\n",
    "city_df[\"City\"] = city_df[\"City\"].str.replace(' ', '+')\n",
    "\n",
    "\n",
    "city_df_mini = pd.DataFrame(city_df[\"City\"][0:10])\n",
    "\n",
    "# #make empty columns\n",
    "# city_df['City Name'] = \"\"\n",
    "# city_df['Lat'] = \"\"\n",
    "# city_df['Lng'] = \"\"\n",
    "# city_df['Max Temp'] = \"\"\n",
    "# city_df['Humidity'] = \"\"\n",
    "# city_df['Cloudiness'] = \"\"\n",
    "# city_df['Wind Speed'] = \"\"\n",
    "# city_df['Country'] = \"\"\n",
    "# city_df['Date'] = \"\"\n",
    "\n",
    "#make empty columns MINI\n",
    "city_df_mini['City Name'] = \"\"\n",
    "city_df_mini['Lat'] = \"\"\n",
    "city_df_mini['Lng'] = \"\"\n",
    "city_df_mini['Max Temp'] = \"\"\n",
    "city_df_mini['Humidity'] = \"\"\n",
    "city_df_mini['Cloudiness'] = \"\"\n",
    "city_df_mini['Wind Speed'] = \"\"\n",
    "city_df_mini['Country'] = \"\"\n",
    "city_df_mini['Date'] = \"\"\n",
    "\n",
    "\n",
    "print(\"Beginning Data Retrieval\")\n",
    "print(\"-----------------------------\")\n",
    "\n",
    "\n",
    "url = \"http://api.openweathermap.org/data/2.5/weather?\"\n",
    "units = \"imperial\"\n",
    "\n",
    "set = 1\n",
    "\n",
    "for index, row in city_df_mini.iterrows():\n",
    "    # make query URLs (yay works)\n",
    "    city = row['City']\n",
    "    query_url = url + \"appid=\" + weather_api_key +\"&q=\" + city + \"&units=\" + units\n",
    "    \n",
    "    #get response json()\n",
    "    response = requests.get(query_url).json()\n",
    "\n",
    "    # trying to break down into sets somehow\n",
    "#     for x in index:\n",
    "        \n",
    "#         if x == _______:\n",
    " \n",
    "#             # SHOVE IT IN DATAFRAME IF EXISTS!!!!!!\n",
    "#             try: \n",
    "#                 print(f\"Processing Record {index} Set {set} | {city}\")\n",
    "#                 city_df_mini.loc[index, 'City Name'] = response['name']\n",
    "#                 city_df_mini.loc[index, 'Lat'] = response['coord']['lat']\n",
    "#                 city_df_mini.loc[index, 'Lng'] = response['coord']['lon']\n",
    "#                 city_df_mini.loc[index, 'Max Temp'] = response['main']['temp_max']\n",
    "#                 city_df_mini.loc[index, 'Humidity'] = response['main']['humidity']\n",
    "#                 city_df_mini.loc[index, 'Cloudiness'] = response['clouds']['all']\n",
    "#                 city_df_mini.loc[index, 'Wind Speed'] = response['wind']['speed']\n",
    "#                 city_df_mini.loc[index, 'Country'] = response['sys']['country']\n",
    "#                 city_df_mini.loc[index, 'Date'] = response['dt']\n",
    "#             except(KeyError, IndexError):\n",
    "#                 print(f\"{city} not found. Skipping...\")\n",
    "            \n",
    "#             set += 1\n",
    "\n",
    "# FOR MINI DATA FRAME\n",
    "    try: \n",
    "        print(f\"Processing Record {index} Set {set} | {city}\")\n",
    "        city_df_mini.loc[index, 'City Name'] = response['name']\n",
    "        city_df_mini.loc[index, 'Lat'] = response['coord']['lat']\n",
    "        city_df_mini.loc[index, 'Lng'] = response['coord']['lon']\n",
    "        city_df_mini.loc[index, 'Max Temp'] = response['main']['temp_max']\n",
    "        city_df_mini.loc[index, 'Humidity'] = response['main']['humidity']\n",
    "        city_df_mini.loc[index, 'Cloudiness'] = response['clouds']['all']\n",
    "        city_df_mini.loc[index, 'Wind Speed'] = response['wind']['speed']\n",
    "        city_df_mini.loc[index, 'Country'] = response['sys']['country']\n",
    "        city_df_mini.loc[index, 'Date'] = response['dt']\n",
    "    except(KeyError, IndexError):\n",
    "        print(f\"{city} not found. Skipping...\")\n",
    "    \n",
    "### RATE LIMIT = 60 per minute\n",
    "\n",
    "# city_df_mini\n",
    "# print(query_url)\n",
    "##### ***** CITY DF MINI WOKRS .....just need to figure out how to split into sets\n",
    "### **** USE CITY MIN TO split into 2 and see if you can get it to work DO NOT USE FULL\n",
    "#### *** LOOK AT Stu_Retrieve_Articles (01, 12 lesson) & Ins_IterativeRequests (1, 09)\n",
    "\n",
    "# will need to get rid of \"City\" column (has +), and check that blank rows are gone"
   ]
  },
  {
   "cell_type": "markdown",
   "metadata": {},
   "source": [
    "### Convert Raw Data to DataFrame\n",
    "* Export the city data into a .csv.\n",
    "* Display the DataFrame"
   ]
  },
  {
   "cell_type": "code",
   "execution_count": 5,
   "metadata": {},
   "outputs": [
    {
     "data": {
      "text/html": [
       "<div>\n",
       "<style scoped>\n",
       "    .dataframe tbody tr th:only-of-type {\n",
       "        vertical-align: middle;\n",
       "    }\n",
       "\n",
       "    .dataframe tbody tr th {\n",
       "        vertical-align: top;\n",
       "    }\n",
       "\n",
       "    .dataframe thead th {\n",
       "        text-align: right;\n",
       "    }\n",
       "</style>\n",
       "<table border=\"1\" class=\"dataframe\">\n",
       "  <thead>\n",
       "    <tr style=\"text-align: right;\">\n",
       "      <th></th>\n",
       "      <th>City</th>\n",
       "      <th>Lat</th>\n",
       "      <th>Lng</th>\n",
       "      <th>Max Temp</th>\n",
       "      <th>Humidity</th>\n",
       "      <th>Cloudiness</th>\n",
       "      <th>Wind Speed</th>\n",
       "      <th>Country</th>\n",
       "      <th>Date</th>\n",
       "    </tr>\n",
       "  </thead>\n",
       "  <tbody>\n",
       "    <tr>\n",
       "      <th>0</th>\n",
       "      <td>Puerto Ayora</td>\n",
       "      <td>-0.74</td>\n",
       "      <td>-90.35</td>\n",
       "      <td>69.01</td>\n",
       "      <td>94</td>\n",
       "      <td>98</td>\n",
       "      <td>7</td>\n",
       "      <td>EC</td>\n",
       "      <td>1602921801</td>\n",
       "    </tr>\n",
       "    <tr>\n",
       "      <th>1</th>\n",
       "      <td>Aksu</td>\n",
       "      <td>41.12</td>\n",
       "      <td>80.26</td>\n",
       "      <td>66.34</td>\n",
       "      <td>25</td>\n",
       "      <td>0</td>\n",
       "      <td>4.32</td>\n",
       "      <td>CN</td>\n",
       "      <td>1602921801</td>\n",
       "    </tr>\n",
       "    <tr>\n",
       "      <th>2</th>\n",
       "      <td>Tiksi</td>\n",
       "      <td>71.69</td>\n",
       "      <td>128.87</td>\n",
       "      <td>25.32</td>\n",
       "      <td>98</td>\n",
       "      <td>100</td>\n",
       "      <td>7.92</td>\n",
       "      <td>RU</td>\n",
       "      <td>1602921802</td>\n",
       "    </tr>\n",
       "    <tr>\n",
       "      <th>3</th>\n",
       "      <td>Shingū</td>\n",
       "      <td>33.73</td>\n",
       "      <td>135.98</td>\n",
       "      <td>59</td>\n",
       "      <td>93</td>\n",
       "      <td>75</td>\n",
       "      <td>2.24</td>\n",
       "      <td>JP</td>\n",
       "      <td>1602921802</td>\n",
       "    </tr>\n",
       "    <tr>\n",
       "      <th>4</th>\n",
       "      <td>Atuona</td>\n",
       "      <td>-9.8</td>\n",
       "      <td>-139.03</td>\n",
       "      <td>78.28</td>\n",
       "      <td>74</td>\n",
       "      <td>17</td>\n",
       "      <td>19.08</td>\n",
       "      <td>PF</td>\n",
       "      <td>1602921802</td>\n",
       "    </tr>\n",
       "  </tbody>\n",
       "</table>\n",
       "</div>"
      ],
      "text/plain": [
       "           City    Lat     Lng Max Temp Humidity Cloudiness Wind Speed  \\\n",
       "0  Puerto Ayora  -0.74  -90.35    69.01       94         98          7   \n",
       "1          Aksu  41.12   80.26    66.34       25          0       4.32   \n",
       "2         Tiksi  71.69  128.87    25.32       98        100       7.92   \n",
       "3        Shingū  33.73  135.98       59       93         75       2.24   \n",
       "4        Atuona   -9.8 -139.03    78.28       74         17      19.08   \n",
       "\n",
       "  Country        Date  \n",
       "0      EC  1602921801  \n",
       "1      CN  1602921801  \n",
       "2      RU  1602921802  \n",
       "3      JP  1602921802  \n",
       "4      PF  1602921802  "
      ]
     },
     "execution_count": 5,
     "metadata": {},
     "output_type": "execute_result"
    }
   ],
   "source": [
    "#get rid of dup city column\n",
    "city_df_mini = city_df_mini.drop(columns=['City'])\n",
    "city_df_mini = city_df_mini.rename(columns={'City Name': 'City'})\n",
    "\n",
    "\n",
    "city_df_mini.to_csv(r'../output_data/cities.csv', index=False, header=True)\n",
    "\n",
    "city_df_mini.head()"
   ]
  },
  {
   "cell_type": "code",
   "execution_count": 53,
   "metadata": {
    "scrolled": true
   },
   "outputs": [
    {
     "data": {
      "text/html": [
       "<div>\n",
       "<style scoped>\n",
       "    .dataframe tbody tr th:only-of-type {\n",
       "        vertical-align: middle;\n",
       "    }\n",
       "\n",
       "    .dataframe tbody tr th {\n",
       "        vertical-align: top;\n",
       "    }\n",
       "\n",
       "    .dataframe thead th {\n",
       "        text-align: right;\n",
       "    }\n",
       "</style>\n",
       "<table border=\"1\" class=\"dataframe\">\n",
       "  <thead>\n",
       "    <tr style=\"text-align: right;\">\n",
       "      <th></th>\n",
       "      <th>Lat</th>\n",
       "      <th>Lng</th>\n",
       "      <th>Max Temp</th>\n",
       "      <th>Humidity</th>\n",
       "      <th>Cloudiness</th>\n",
       "      <th>Wind Speed</th>\n",
       "      <th>Date</th>\n",
       "    </tr>\n",
       "  </thead>\n",
       "  <tbody>\n",
       "    <tr>\n",
       "      <th>count</th>\n",
       "      <td>10.000000</td>\n",
       "      <td>10.000000</td>\n",
       "      <td>10.000000</td>\n",
       "      <td>10.000000</td>\n",
       "      <td>10.000000</td>\n",
       "      <td>10.000000</td>\n",
       "      <td>1.000000e+01</td>\n",
       "    </tr>\n",
       "    <tr>\n",
       "      <th>mean</th>\n",
       "      <td>21.000000</td>\n",
       "      <td>41.400000</td>\n",
       "      <td>60.600000</td>\n",
       "      <td>66.100000</td>\n",
       "      <td>49.300000</td>\n",
       "      <td>9.500000</td>\n",
       "      <td>1.602922e+09</td>\n",
       "    </tr>\n",
       "    <tr>\n",
       "      <th>std</th>\n",
       "      <td>34.244221</td>\n",
       "      <td>108.319691</td>\n",
       "      <td>16.187787</td>\n",
       "      <td>27.286342</td>\n",
       "      <td>43.458921</td>\n",
       "      <td>7.412452</td>\n",
       "      <td>7.378648e-01</td>\n",
       "    </tr>\n",
       "    <tr>\n",
       "      <th>min</th>\n",
       "      <td>-33.000000</td>\n",
       "      <td>-139.000000</td>\n",
       "      <td>25.000000</td>\n",
       "      <td>25.000000</td>\n",
       "      <td>0.000000</td>\n",
       "      <td>2.000000</td>\n",
       "      <td>1.602922e+09</td>\n",
       "    </tr>\n",
       "    <tr>\n",
       "      <th>25%</th>\n",
       "      <td>-6.750000</td>\n",
       "      <td>-49.500000</td>\n",
       "      <td>56.000000</td>\n",
       "      <td>40.750000</td>\n",
       "      <td>4.250000</td>\n",
       "      <td>4.000000</td>\n",
       "      <td>1.602922e+09</td>\n",
       "    </tr>\n",
       "    <tr>\n",
       "      <th>50%</th>\n",
       "      <td>36.000000</td>\n",
       "      <td>96.500000</td>\n",
       "      <td>65.000000</td>\n",
       "      <td>72.500000</td>\n",
       "      <td>51.500000</td>\n",
       "      <td>7.000000</td>\n",
       "      <td>1.602922e+09</td>\n",
       "    </tr>\n",
       "    <tr>\n",
       "      <th>75%</th>\n",
       "      <td>40.500000</td>\n",
       "      <td>124.750000</td>\n",
       "      <td>72.000000</td>\n",
       "      <td>88.500000</td>\n",
       "      <td>92.250000</td>\n",
       "      <td>14.250000</td>\n",
       "      <td>1.602922e+09</td>\n",
       "    </tr>\n",
       "    <tr>\n",
       "      <th>max</th>\n",
       "      <td>71.000000</td>\n",
       "      <td>156.000000</td>\n",
       "      <td>78.000000</td>\n",
       "      <td>98.000000</td>\n",
       "      <td>100.000000</td>\n",
       "      <td>23.000000</td>\n",
       "      <td>1.602922e+09</td>\n",
       "    </tr>\n",
       "  </tbody>\n",
       "</table>\n",
       "</div>"
      ],
      "text/plain": [
       "             Lat         Lng   Max Temp   Humidity  Cloudiness  Wind Speed  \\\n",
       "count  10.000000   10.000000  10.000000  10.000000   10.000000   10.000000   \n",
       "mean   21.000000   41.400000  60.600000  66.100000   49.300000    9.500000   \n",
       "std    34.244221  108.319691  16.187787  27.286342   43.458921    7.412452   \n",
       "min   -33.000000 -139.000000  25.000000  25.000000    0.000000    2.000000   \n",
       "25%    -6.750000  -49.500000  56.000000  40.750000    4.250000    4.000000   \n",
       "50%    36.000000   96.500000  65.000000  72.500000   51.500000    7.000000   \n",
       "75%    40.500000  124.750000  72.000000  88.500000   92.250000   14.250000   \n",
       "max    71.000000  156.000000  78.000000  98.000000  100.000000   23.000000   \n",
       "\n",
       "               Date  \n",
       "count  1.000000e+01  \n",
       "mean   1.602922e+09  \n",
       "std    7.378648e-01  \n",
       "min    1.602922e+09  \n",
       "25%    1.602922e+09  \n",
       "50%    1.602922e+09  \n",
       "75%    1.602922e+09  \n",
       "max    1.602922e+09  "
      ]
     },
     "execution_count": 53,
     "metadata": {},
     "output_type": "execute_result"
    }
   ],
   "source": [
    "city_df_mini_stats = pd.DataFrame(city_df_mini[['Lat', 'Lng', 'Max Temp', 'Humidity', \n",
    "                                                'Cloudiness', 'Wind Speed', 'Date']].astype(int))\n",
    "\n",
    "\n",
    "city_df_count = city_df_mini_stats.count()\n",
    "city_df_mean = city_df_mini_stats.mean()\n",
    "city_df_std = city_df_mini_stats.std()\n",
    "city_df_min = city_df_mini_stats.min()\n",
    "city_df_25 = city_df_mini_stats.quantile(.25, axis=0)\n",
    "city_df_5 = city_df_mini_stats.quantile(.5, axis=0)\n",
    "city_df_75 = city_df_mini_stats.quantile(.75, axis=0)\n",
    "city_df_max = city_df_mini_stats.max()\n",
    "\n",
    "\n",
    "city_df_mini_stats_filled = pd.DataFrame({\"count\": city_df_count, \"mean\": city_df_mean,\n",
    "                                          \"std\": city_df_std, \"min\": city_df_min,\n",
    "                                          \"25%\": city_df_25, \"50%\": city_df_5,\n",
    "                                          \"75%\": city_df_75, \"max\": city_df_max})\n",
    "city_df_mini_stats_filled = city_df_mini_stats_filled.transpose()\n",
    "city_df_mini_stats_filled\n",
    "\n"
   ]
  },
  {
   "cell_type": "markdown",
   "metadata": {},
   "source": [
    "## Inspect the data and remove the cities where the humidity > 100%.\n",
    "----\n",
    "Skip this step if there are no cities that have humidity > 100%. "
   ]
  },
  {
   "cell_type": "code",
   "execution_count": null,
   "metadata": {},
   "outputs": [],
   "source": [
    "#CHECK to SEE IF humidity max = > 100, it goes bye bye got back and clean\n",
    "\n",
    "city_df_mini_stats_filled"
   ]
  },
  {
   "cell_type": "code",
   "execution_count": null,
   "metadata": {},
   "outputs": [],
   "source": [
    "#  Get the indices of cities that have humidity over 100%.\n"
   ]
  },
  {
   "cell_type": "code",
   "execution_count": null,
   "metadata": {},
   "outputs": [],
   "source": [
    "# Make a new DataFrame equal to the city data to drop all humidity outliers by index.\n",
    "# Passing \"inplace=False\" will make a copy of the city_data DataFrame, which we call \"clean_city_data\".\n"
   ]
  },
  {
   "cell_type": "code",
   "execution_count": null,
   "metadata": {},
   "outputs": [],
   "source": [
    "\n"
   ]
  },
  {
   "cell_type": "markdown",
   "metadata": {},
   "source": [
    "## Plotting the Data\n",
    "* Use proper labeling of the plots using plot titles (including date of analysis) and axes labels.\n",
    "* Save the plotted figures as .pngs."
   ]
  },
  {
   "cell_type": "markdown",
   "metadata": {},
   "source": [
    "## Latitude vs. Temperature Plot"
   ]
  },
  {
   "cell_type": "code",
   "execution_count": null,
   "metadata": {
    "scrolled": true
   },
   "outputs": [],
   "source": []
  },
  {
   "cell_type": "markdown",
   "metadata": {},
   "source": [
    "## Latitude vs. Humidity Plot"
   ]
  },
  {
   "cell_type": "code",
   "execution_count": null,
   "metadata": {},
   "outputs": [],
   "source": []
  },
  {
   "cell_type": "markdown",
   "metadata": {},
   "source": [
    "## Latitude vs. Cloudiness Plot"
   ]
  },
  {
   "cell_type": "code",
   "execution_count": null,
   "metadata": {},
   "outputs": [],
   "source": []
  },
  {
   "cell_type": "markdown",
   "metadata": {},
   "source": [
    "## Latitude vs. Wind Speed Plot"
   ]
  },
  {
   "cell_type": "code",
   "execution_count": null,
   "metadata": {},
   "outputs": [],
   "source": []
  },
  {
   "cell_type": "markdown",
   "metadata": {},
   "source": [
    "## Linear Regression"
   ]
  },
  {
   "cell_type": "code",
   "execution_count": null,
   "metadata": {},
   "outputs": [],
   "source": []
  },
  {
   "cell_type": "markdown",
   "metadata": {},
   "source": [
    "####  Northern Hemisphere - Max Temp vs. Latitude Linear Regression"
   ]
  },
  {
   "cell_type": "code",
   "execution_count": null,
   "metadata": {},
   "outputs": [],
   "source": []
  },
  {
   "cell_type": "markdown",
   "metadata": {},
   "source": [
    "####  Southern Hemisphere - Max Temp vs. Latitude Linear Regression"
   ]
  },
  {
   "cell_type": "code",
   "execution_count": null,
   "metadata": {},
   "outputs": [],
   "source": []
  },
  {
   "cell_type": "markdown",
   "metadata": {},
   "source": [
    "####  Northern Hemisphere - Humidity (%) vs. Latitude Linear Regression"
   ]
  },
  {
   "cell_type": "code",
   "execution_count": null,
   "metadata": {},
   "outputs": [],
   "source": []
  },
  {
   "cell_type": "markdown",
   "metadata": {},
   "source": [
    "####  Southern Hemisphere - Humidity (%) vs. Latitude Linear Regression"
   ]
  },
  {
   "cell_type": "code",
   "execution_count": null,
   "metadata": {},
   "outputs": [],
   "source": []
  },
  {
   "cell_type": "markdown",
   "metadata": {},
   "source": [
    "####  Northern Hemisphere - Cloudiness (%) vs. Latitude Linear Regression"
   ]
  },
  {
   "cell_type": "code",
   "execution_count": null,
   "metadata": {},
   "outputs": [],
   "source": []
  },
  {
   "cell_type": "markdown",
   "metadata": {},
   "source": [
    "####  Southern Hemisphere - Cloudiness (%) vs. Latitude Linear Regression"
   ]
  },
  {
   "cell_type": "code",
   "execution_count": null,
   "metadata": {},
   "outputs": [],
   "source": []
  },
  {
   "cell_type": "markdown",
   "metadata": {},
   "source": [
    "####  Northern Hemisphere - Wind Speed (mph) vs. Latitude Linear Regression"
   ]
  },
  {
   "cell_type": "code",
   "execution_count": null,
   "metadata": {},
   "outputs": [],
   "source": []
  },
  {
   "cell_type": "markdown",
   "metadata": {},
   "source": [
    "####  Southern Hemisphere - Wind Speed (mph) vs. Latitude Linear Regression"
   ]
  },
  {
   "cell_type": "code",
   "execution_count": null,
   "metadata": {},
   "outputs": [],
   "source": []
  },
  {
   "cell_type": "code",
   "execution_count": null,
   "metadata": {},
   "outputs": [],
   "source": []
  }
 ],
 "metadata": {
  "anaconda-cloud": {},
  "kernel_info": {
   "name": "python3"
  },
  "kernelspec": {
   "display_name": "Python 3",
   "language": "python",
   "name": "python3"
  },
  "language_info": {
   "codemirror_mode": {
    "name": "ipython",
    "version": 3
   },
   "file_extension": ".py",
   "mimetype": "text/x-python",
   "name": "python",
   "nbconvert_exporter": "python",
   "pygments_lexer": "ipython3",
   "version": "3.6.12"
  },
  "latex_envs": {
   "LaTeX_envs_menu_present": true,
   "autoclose": false,
   "autocomplete": true,
   "bibliofile": "biblio.bib",
   "cite_by": "apalike",
   "current_citInitial": 1,
   "eqLabelWithNumbers": true,
   "eqNumInitial": 1,
   "hotkeys": {
    "equation": "Ctrl-E",
    "itemize": "Ctrl-I"
   },
   "labels_anchors": false,
   "latex_user_defs": false,
   "report_style_numbering": false,
   "user_envs_cfg": false
  },
  "nteract": {
   "version": "0.12.3"
  }
 },
 "nbformat": 4,
 "nbformat_minor": 2
}

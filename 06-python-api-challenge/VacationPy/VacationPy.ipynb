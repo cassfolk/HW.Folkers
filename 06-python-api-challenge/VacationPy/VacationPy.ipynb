{
 "cells": [
  {
   "cell_type": "markdown",
   "metadata": {},
   "source": [
    "# VacationPy\n",
    "----\n",
    "\n",
    "#### Note\n",
    "* Keep an eye on your API usage. Use https://developers.google.com/maps/reporting/gmp-reporting as reference for how to monitor your usage and billing.\n",
    "\n",
    "* Instructions have been included for each segment. You do not have to follow them exactly, but they are included to help you think through the steps."
   ]
  },
  {
   "cell_type": "code",
   "execution_count": 1,
   "metadata": {},
   "outputs": [],
   "source": [
    "# Dependencies and Setup\n",
    "import matplotlib.pyplot as plt\n",
    "import pandas as pd\n",
    "import numpy as np\n",
    "import requests\n",
    "import gmaps\n",
    "import os\n",
    "\n",
    "# Import API key\n",
    "from api_keys import g_key\n"
   ]
  },
  {
   "cell_type": "markdown",
   "metadata": {},
   "source": [
    "### Store Part I results into DataFrame\n",
    "* Load the csv exported in Part I to a DataFrame"
   ]
  },
  {
   "cell_type": "code",
   "execution_count": 2,
   "metadata": {},
   "outputs": [
    {
     "data": {
      "text/html": [
       "<div>\n",
       "<style scoped>\n",
       "    .dataframe tbody tr th:only-of-type {\n",
       "        vertical-align: middle;\n",
       "    }\n",
       "\n",
       "    .dataframe tbody tr th {\n",
       "        vertical-align: top;\n",
       "    }\n",
       "\n",
       "    .dataframe thead th {\n",
       "        text-align: right;\n",
       "    }\n",
       "</style>\n",
       "<table border=\"1\" class=\"dataframe\">\n",
       "  <thead>\n",
       "    <tr style=\"text-align: right;\">\n",
       "      <th></th>\n",
       "      <th>City</th>\n",
       "      <th>Lat</th>\n",
       "      <th>Lng</th>\n",
       "      <th>Max Temp</th>\n",
       "      <th>Humidity</th>\n",
       "      <th>Cloudiness</th>\n",
       "      <th>Wind Speed</th>\n",
       "      <th>Date</th>\n",
       "      <th>Country</th>\n",
       "    </tr>\n",
       "  </thead>\n",
       "  <tbody>\n",
       "    <tr>\n",
       "      <th>0</th>\n",
       "      <td>Rikitea</td>\n",
       "      <td>-23.12</td>\n",
       "      <td>-134.97</td>\n",
       "      <td>73.67</td>\n",
       "      <td>80</td>\n",
       "      <td>0</td>\n",
       "      <td>17.07</td>\n",
       "      <td>1603111965</td>\n",
       "      <td>PF</td>\n",
       "    </tr>\n",
       "    <tr>\n",
       "      <th>1</th>\n",
       "      <td>Bluff</td>\n",
       "      <td>-46.60</td>\n",
       "      <td>168.33</td>\n",
       "      <td>46.99</td>\n",
       "      <td>85</td>\n",
       "      <td>96</td>\n",
       "      <td>18.01</td>\n",
       "      <td>1603111965</td>\n",
       "      <td>NZ</td>\n",
       "    </tr>\n",
       "    <tr>\n",
       "      <th>2</th>\n",
       "      <td>Esperance</td>\n",
       "      <td>-33.87</td>\n",
       "      <td>121.90</td>\n",
       "      <td>60.33</td>\n",
       "      <td>84</td>\n",
       "      <td>0</td>\n",
       "      <td>15.12</td>\n",
       "      <td>1603111965</td>\n",
       "      <td>AU</td>\n",
       "    </tr>\n",
       "    <tr>\n",
       "      <th>3</th>\n",
       "      <td>Shouguang</td>\n",
       "      <td>36.88</td>\n",
       "      <td>118.74</td>\n",
       "      <td>61.00</td>\n",
       "      <td>50</td>\n",
       "      <td>0</td>\n",
       "      <td>7.05</td>\n",
       "      <td>1603111965</td>\n",
       "      <td>CN</td>\n",
       "    </tr>\n",
       "    <tr>\n",
       "      <th>4</th>\n",
       "      <td>Khorixas</td>\n",
       "      <td>-20.37</td>\n",
       "      <td>14.97</td>\n",
       "      <td>103.03</td>\n",
       "      <td>7</td>\n",
       "      <td>0</td>\n",
       "      <td>3.42</td>\n",
       "      <td>1603111966</td>\n",
       "      <td>NaN</td>\n",
       "    </tr>\n",
       "  </tbody>\n",
       "</table>\n",
       "</div>"
      ],
      "text/plain": [
       "        City    Lat     Lng  Max Temp  Humidity  Cloudiness  Wind Speed  \\\n",
       "0    Rikitea -23.12 -134.97     73.67        80           0       17.07   \n",
       "1      Bluff -46.60  168.33     46.99        85          96       18.01   \n",
       "2  Esperance -33.87  121.90     60.33        84           0       15.12   \n",
       "3  Shouguang  36.88  118.74     61.00        50           0        7.05   \n",
       "4   Khorixas -20.37   14.97    103.03         7           0        3.42   \n",
       "\n",
       "         Date Country  \n",
       "0  1603111965      PF  \n",
       "1  1603111965      NZ  \n",
       "2  1603111965      AU  \n",
       "3  1603111965      CN  \n",
       "4  1603111966     NaN  "
      ]
     },
     "execution_count": 2,
     "metadata": {},
     "output_type": "execute_result"
    }
   ],
   "source": [
    "cities_csv = pd.read_csv('../output_data/cities.csv')\n",
    "cities_csv.head()"
   ]
  },
  {
   "cell_type": "markdown",
   "metadata": {},
   "source": [
    "### Humidity Heatmap\n",
    "* Configure gmaps.\n",
    "* Use the Lat and Lng as locations and Humidity as the weight.\n",
    "* Add Heatmap layer to map."
   ]
  },
  {
   "cell_type": "code",
   "execution_count": 3,
   "metadata": {},
   "outputs": [],
   "source": [
    "gmaps.configure(api_key=g_key)"
   ]
  },
  {
   "cell_type": "code",
   "execution_count": 4,
   "metadata": {
    "scrolled": false
   },
   "outputs": [
    {
     "data": {
      "application/vnd.jupyter.widget-view+json": {
       "model_id": "92d140d49ec04fcc9956189d534f0275",
       "version_major": 2,
       "version_minor": 0
      },
      "text/plain": [
       "Figure(layout=FigureLayout(height='420px'))"
      ]
     },
     "metadata": {},
     "output_type": "display_data"
    }
   ],
   "source": [
    "locations = cities_csv[[\"Lat\", \"Lng\"]].astype(float)\n",
    "max_humdity = cities_csv['Humidity'].max().astype(float)\n",
    "\n",
    "\n",
    "humidity_weight = cities_csv['Humidity'].astype(float)\n",
    "\n",
    "# create figure\n",
    "fig = gmaps.figure()\n",
    "\n",
    "heat_layer = gmaps.heatmap_layer(locations, weights=humidity_weight, \n",
    "                                 dissipating=False, max_intensity=max_humdity, \n",
    "                                 point_radius=2)\n",
    "fig.add_layer(heat_layer)\n",
    "\n",
    "\n",
    "fig"
   ]
  },
  {
   "cell_type": "markdown",
   "metadata": {},
   "source": [
    "### Create new DataFrame fitting weather criteria\n",
    "* Narrow down the cities to fit weather conditions.\n",
    "* Drop any rows will null values."
   ]
  },
  {
   "cell_type": "code",
   "execution_count": 5,
   "metadata": {},
   "outputs": [],
   "source": [
    "# A max temperature lower than 70 degrees but higher than 60.\n",
    "# Wind speed less than 5 mph.\n",
    "# More than 10% cloudiness.\n",
    "\n",
    "\n",
    "ideal_weather_df = cities_csv.copy()\n",
    "ideal_weather_df = ideal_weather_df[(ideal_weather_df['Max Temp'] < 70) & (ideal_weather_df['Max Temp'] > 60)]\n",
    "ideal_weather_df = ideal_weather_df[ideal_weather_df[\"Wind Speed\"] <= 5]\n",
    "ideal_weather_df = ideal_weather_df[ideal_weather_df[\"Cloudiness\"] >= 10]"
   ]
  },
  {
   "cell_type": "markdown",
   "metadata": {},
   "source": [
    "### Hotel Map\n",
    "* Store into variable named `hotel_df`.\n",
    "* Add a \"Hotel Name\" column to the DataFrame.\n",
    "* Set parameters to search for hotels with 5000 meters.\n",
    "* Hit the Google Places API for each city's coordinates.\n",
    "* Store the first Hotel result into the DataFrame.\n",
    "* Plot markers on top of the heatmap."
   ]
  },
  {
   "cell_type": "code",
   "execution_count": 6,
   "metadata": {},
   "outputs": [
    {
     "name": "stdout",
     "output_type": "stream",
     "text": [
      "26\n"
     ]
    },
    {
     "data": {
      "text/html": [
       "<div>\n",
       "<style scoped>\n",
       "    .dataframe tbody tr th:only-of-type {\n",
       "        vertical-align: middle;\n",
       "    }\n",
       "\n",
       "    .dataframe tbody tr th {\n",
       "        vertical-align: top;\n",
       "    }\n",
       "\n",
       "    .dataframe thead th {\n",
       "        text-align: right;\n",
       "    }\n",
       "</style>\n",
       "<table border=\"1\" class=\"dataframe\">\n",
       "  <thead>\n",
       "    <tr style=\"text-align: right;\">\n",
       "      <th></th>\n",
       "      <th>City</th>\n",
       "      <th>Lat</th>\n",
       "      <th>Lng</th>\n",
       "      <th>Max Temp</th>\n",
       "      <th>Humidity</th>\n",
       "      <th>Cloudiness</th>\n",
       "      <th>Wind Speed</th>\n",
       "      <th>Date</th>\n",
       "      <th>Country</th>\n",
       "      <th>Hotel Name</th>\n",
       "    </tr>\n",
       "  </thead>\n",
       "  <tbody>\n",
       "    <tr>\n",
       "      <th>17</th>\n",
       "      <td>Flinders</td>\n",
       "      <td>-34.58</td>\n",
       "      <td>150.86</td>\n",
       "      <td>62.01</td>\n",
       "      <td>78</td>\n",
       "      <td>100</td>\n",
       "      <td>1.01</td>\n",
       "      <td>1603111969</td>\n",
       "      <td>AU</td>\n",
       "      <td></td>\n",
       "    </tr>\n",
       "    <tr>\n",
       "      <th>28</th>\n",
       "      <td>Geraldton</td>\n",
       "      <td>-28.77</td>\n",
       "      <td>114.60</td>\n",
       "      <td>66.99</td>\n",
       "      <td>76</td>\n",
       "      <td>87</td>\n",
       "      <td>4.00</td>\n",
       "      <td>1603111971</td>\n",
       "      <td>AU</td>\n",
       "      <td></td>\n",
       "    </tr>\n",
       "    <tr>\n",
       "      <th>119</th>\n",
       "      <td>Gorodovikovsk</td>\n",
       "      <td>46.09</td>\n",
       "      <td>41.93</td>\n",
       "      <td>60.94</td>\n",
       "      <td>91</td>\n",
       "      <td>100</td>\n",
       "      <td>3.83</td>\n",
       "      <td>1603112112</td>\n",
       "      <td>RU</td>\n",
       "      <td></td>\n",
       "    </tr>\n",
       "    <tr>\n",
       "      <th>126</th>\n",
       "      <td>Sakaiminato</td>\n",
       "      <td>35.55</td>\n",
       "      <td>133.23</td>\n",
       "      <td>62.92</td>\n",
       "      <td>52</td>\n",
       "      <td>96</td>\n",
       "      <td>2.80</td>\n",
       "      <td>1603112113</td>\n",
       "      <td>JP</td>\n",
       "      <td></td>\n",
       "    </tr>\n",
       "    <tr>\n",
       "      <th>142</th>\n",
       "      <td>Khonsa</td>\n",
       "      <td>27.02</td>\n",
       "      <td>95.57</td>\n",
       "      <td>66.85</td>\n",
       "      <td>96</td>\n",
       "      <td>70</td>\n",
       "      <td>4.41</td>\n",
       "      <td>1603112176</td>\n",
       "      <td>IN</td>\n",
       "      <td></td>\n",
       "    </tr>\n",
       "  </tbody>\n",
       "</table>\n",
       "</div>"
      ],
      "text/plain": [
       "              City    Lat     Lng  Max Temp  Humidity  Cloudiness  Wind Speed  \\\n",
       "17        Flinders -34.58  150.86     62.01        78         100        1.01   \n",
       "28       Geraldton -28.77  114.60     66.99        76          87        4.00   \n",
       "119  Gorodovikovsk  46.09   41.93     60.94        91         100        3.83   \n",
       "126    Sakaiminato  35.55  133.23     62.92        52          96        2.80   \n",
       "142         Khonsa  27.02   95.57     66.85        96          70        4.41   \n",
       "\n",
       "           Date Country Hotel Name  \n",
       "17   1603111969      AU             \n",
       "28   1603111971      AU             \n",
       "119  1603112112      RU             \n",
       "126  1603112113      JP             \n",
       "142  1603112176      IN             "
      ]
     },
     "execution_count": 6,
     "metadata": {},
     "output_type": "execute_result"
    }
   ],
   "source": [
    "hotel_df = ideal_weather_df.copy()\n",
    "hotel_df['Hotel Name'] = \"\"\n",
    "print(hotel_df.City.count())\n",
    "hotel_df.head()"
   ]
  },
  {
   "cell_type": "code",
   "execution_count": 7,
   "metadata": {
    "scrolled": false
   },
   "outputs": [
    {
     "name": "stdout",
     "output_type": "stream",
     "text": [
      "There were 3 errors\n"
     ]
    }
   ],
   "source": [
    "base_url = \"https://maps.googleapis.com/maps/api/place/nearbysearch/json\"\n",
    "\n",
    "# happy testing small list of happy\n",
    "hotel_df_mini = hotel_df.iloc[0:10]\n",
    "\n",
    "error_number = 0 \n",
    "\n",
    "for index, row in hotel_df.iterrows():\n",
    "    \n",
    "    coords = f\"{hotel_df.Lat[index]},{hotel_df.Lng[index]}\"\n",
    "    city = hotel_df.City[index]\n",
    "\n",
    "    params = {\n",
    "        \"location\": coords, \n",
    "        \"radius\": \"5000\",\n",
    "        \"type\": \"lodging\", \n",
    "        \"key\": g_key,\n",
    "    }\n",
    "\n",
    "    response = requests.get(base_url, params=params).json()\n",
    "    try: \n",
    "        hotel_df.loc[index, \"Hotel Name\"] = response['results'][1]['name']\n",
    "    except(KeyError, IndexError):\n",
    "        error_number += 1\n",
    "\n",
    "\n",
    "print(f\"There were {error_number} errors\")"
   ]
  },
  {
   "cell_type": "code",
   "execution_count": 8,
   "metadata": {
    "scrolled": true
   },
   "outputs": [],
   "source": [
    "hotel_df['Hotel Name'].replace(\"\", np.nan, inplace=True)\n",
    "hotel_df.dropna(how=\"any\", inplace=True)"
   ]
  },
  {
   "cell_type": "code",
   "execution_count": 9,
   "metadata": {},
   "outputs": [
    {
     "data": {
      "text/html": [
       "<div>\n",
       "<style scoped>\n",
       "    .dataframe tbody tr th:only-of-type {\n",
       "        vertical-align: middle;\n",
       "    }\n",
       "\n",
       "    .dataframe tbody tr th {\n",
       "        vertical-align: top;\n",
       "    }\n",
       "\n",
       "    .dataframe thead th {\n",
       "        text-align: right;\n",
       "    }\n",
       "</style>\n",
       "<table border=\"1\" class=\"dataframe\">\n",
       "  <thead>\n",
       "    <tr style=\"text-align: right;\">\n",
       "      <th></th>\n",
       "      <th>City</th>\n",
       "      <th>Lat</th>\n",
       "      <th>Lng</th>\n",
       "      <th>Max Temp</th>\n",
       "      <th>Humidity</th>\n",
       "      <th>Cloudiness</th>\n",
       "      <th>Wind Speed</th>\n",
       "      <th>Date</th>\n",
       "      <th>Country</th>\n",
       "      <th>Hotel Name</th>\n",
       "    </tr>\n",
       "  </thead>\n",
       "  <tbody>\n",
       "    <tr>\n",
       "      <th>17</th>\n",
       "      <td>Flinders</td>\n",
       "      <td>-34.58</td>\n",
       "      <td>150.86</td>\n",
       "      <td>62.01</td>\n",
       "      <td>78</td>\n",
       "      <td>100</td>\n",
       "      <td>1.01</td>\n",
       "      <td>1603111969</td>\n",
       "      <td>AU</td>\n",
       "      <td>Shellharbour Beachside Holiday Park</td>\n",
       "    </tr>\n",
       "    <tr>\n",
       "      <th>28</th>\n",
       "      <td>Geraldton</td>\n",
       "      <td>-28.77</td>\n",
       "      <td>114.60</td>\n",
       "      <td>66.99</td>\n",
       "      <td>76</td>\n",
       "      <td>87</td>\n",
       "      <td>4.00</td>\n",
       "      <td>1603111971</td>\n",
       "      <td>AU</td>\n",
       "      <td>Hospitality Geraldton</td>\n",
       "    </tr>\n",
       "    <tr>\n",
       "      <th>126</th>\n",
       "      <td>Sakaiminato</td>\n",
       "      <td>35.55</td>\n",
       "      <td>133.23</td>\n",
       "      <td>62.92</td>\n",
       "      <td>52</td>\n",
       "      <td>96</td>\n",
       "      <td>2.80</td>\n",
       "      <td>1603112113</td>\n",
       "      <td>JP</td>\n",
       "      <td>Italian pasley</td>\n",
       "    </tr>\n",
       "    <tr>\n",
       "      <th>237</th>\n",
       "      <td>Wanxian</td>\n",
       "      <td>30.80</td>\n",
       "      <td>108.39</td>\n",
       "      <td>63.57</td>\n",
       "      <td>78</td>\n",
       "      <td>100</td>\n",
       "      <td>2.71</td>\n",
       "      <td>1603112318</td>\n",
       "      <td>CN</td>\n",
       "      <td>Kinglead Hotel</td>\n",
       "    </tr>\n",
       "    <tr>\n",
       "      <th>263</th>\n",
       "      <td>Camacha</td>\n",
       "      <td>33.08</td>\n",
       "      <td>-16.33</td>\n",
       "      <td>67.57</td>\n",
       "      <td>77</td>\n",
       "      <td>100</td>\n",
       "      <td>3.80</td>\n",
       "      <td>1603112324</td>\n",
       "      <td>PT</td>\n",
       "      <td>Hotel Praia Dourada</td>\n",
       "    </tr>\n",
       "  </tbody>\n",
       "</table>\n",
       "</div>"
      ],
      "text/plain": [
       "            City    Lat     Lng  Max Temp  Humidity  Cloudiness  Wind Speed  \\\n",
       "17      Flinders -34.58  150.86     62.01        78         100        1.01   \n",
       "28     Geraldton -28.77  114.60     66.99        76          87        4.00   \n",
       "126  Sakaiminato  35.55  133.23     62.92        52          96        2.80   \n",
       "237      Wanxian  30.80  108.39     63.57        78         100        2.71   \n",
       "263      Camacha  33.08  -16.33     67.57        77         100        3.80   \n",
       "\n",
       "           Date Country                           Hotel Name  \n",
       "17   1603111969      AU  Shellharbour Beachside Holiday Park  \n",
       "28   1603111971      AU                Hospitality Geraldton  \n",
       "126  1603112113      JP                       Italian pasley  \n",
       "237  1603112318      CN                       Kinglead Hotel  \n",
       "263  1603112324      PT                  Hotel Praia Dourada  "
      ]
     },
     "execution_count": 9,
     "metadata": {},
     "output_type": "execute_result"
    }
   ],
   "source": [
    "hotel_df.head()"
   ]
  },
  {
   "cell_type": "code",
   "execution_count": 10,
   "metadata": {},
   "outputs": [],
   "source": [
    "# NOTE: Do not change any of the code in this cell\n",
    "\n",
    "# Using the template add the hotel marks to the heatmap\n",
    "info_box_template = \"\"\"\n",
    "<dl>\n",
    "<dt>Name</dt><dd>{Hotel Name}</dd>\n",
    "<dt>City</dt><dd>{City}</dd>\n",
    "<dt>Country</dt><dd>{Country}</dd>\n",
    "</dl>\n",
    "\"\"\"\n",
    "# Store the DataFrame Row\n",
    "# NOTE: be sure to update with your DataFrame name\n",
    "hotel_info = [info_box_template.format(**row) for index, row in hotel_df.iterrows()]\n",
    "locations = hotel_df[[\"Lat\", \"Lng\"]]"
   ]
  },
  {
   "cell_type": "code",
   "execution_count": 11,
   "metadata": {},
   "outputs": [
    {
     "data": {
      "application/vnd.jupyter.widget-view+json": {
       "model_id": "ac16d8d2b0c845d8a461e5c265e70795",
       "version_major": 2,
       "version_minor": 0
      },
      "text/plain": [
       "Figure(layout=FigureLayout(height='420px'))"
      ]
     },
     "metadata": {},
     "output_type": "display_data"
    }
   ],
   "source": [
    "# Add marker layer ontop of heat map\n",
    "markers = gmaps.marker_layer(locations, info_box_content=hotel_info)\n",
    "\n",
    "# Display figure\n",
    "\n",
    "locations = cities_csv[[\"Lat\", \"Lng\"]].astype(float)\n",
    "max_humdity = cities_csv['Humidity'].max().astype(float)\n",
    "humidity_weight = cities_csv['Humidity'].astype(float)\n",
    "\n",
    "# create figure\n",
    "fig = gmaps.figure()\n",
    "\n",
    "heat_layer = gmaps.heatmap_layer(locations, weights=humidity_weight, \n",
    "                                 dissipating=False, max_intensity=max_humdity, \n",
    "                                 point_radius=2)\n",
    "fig.add_layer(heat_layer)\n",
    "fig.add_layer(markers)\n",
    "fig\n"
   ]
  },
  {
   "cell_type": "code",
   "execution_count": null,
   "metadata": {},
   "outputs": [],
   "source": []
  }
 ],
 "metadata": {
  "kernelspec": {
   "display_name": "Python [conda env:PythonUCI]",
   "language": "python",
   "name": "conda-env-PythonUCI-py"
  },
  "language_info": {
   "codemirror_mode": {
    "name": "ipython",
    "version": 3
   },
   "file_extension": ".py",
   "mimetype": "text/x-python",
   "name": "python",
   "nbconvert_exporter": "python",
   "pygments_lexer": "ipython3",
   "version": "3.6.12"
  },
  "latex_envs": {
   "LaTeX_envs_menu_present": true,
   "autoclose": false,
   "autocomplete": true,
   "bibliofile": "biblio.bib",
   "cite_by": "apalike",
   "current_citInitial": 1,
   "eqLabelWithNumbers": true,
   "eqNumInitial": 1,
   "hotkeys": {
    "equation": "Ctrl-E",
    "itemize": "Ctrl-I"
   },
   "labels_anchors": false,
   "latex_user_defs": false,
   "report_style_numbering": false,
   "user_envs_cfg": false
  }
 },
 "nbformat": 4,
 "nbformat_minor": 4
}
